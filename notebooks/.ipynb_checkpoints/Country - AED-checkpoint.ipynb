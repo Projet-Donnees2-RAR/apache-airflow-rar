{
 "cells": [
  {
   "cell_type": "markdown",
   "id": "d8184cce",
   "metadata": {},
   "source": [
    "# Analyse exploratoire des données"
   ]
  },
  {
   "cell_type": "markdown",
   "id": "8a80efdb",
   "metadata": {},
   "source": [
    "Dans ce notebook , nous procéderons à une analyse exploratoire des données."
   ]
  },
  {
   "cell_type": "code",
   "execution_count": 1,
   "id": "95d42c22",
   "metadata": {},
   "outputs": [],
   "source": [
    "import pandas as pd\n",
    "import matplotlib.pyplot as plt"
   ]
  },
  {
   "cell_type": "code",
   "execution_count": 2,
   "id": "49403680",
   "metadata": {},
   "outputs": [],
   "source": [
    "data = pd.read_csv(\"https://rar-group-bucket.s3.eu-north-1.amazonaws.com/country_2023_08_16.csv\")"
   ]
  },
  {
   "cell_type": "code",
   "execution_count": 3,
   "id": "dbfe74a4",
   "metadata": {
    "scrolled": true
   },
   "outputs": [
    {
     "data": {
      "text/html": [
       "<div>\n",
       "<style scoped>\n",
       "    .dataframe tbody tr th:only-of-type {\n",
       "        vertical-align: middle;\n",
       "    }\n",
       "\n",
       "    .dataframe tbody tr th {\n",
       "        vertical-align: top;\n",
       "    }\n",
       "\n",
       "    .dataframe thead th {\n",
       "        text-align: right;\n",
       "    }\n",
       "</style>\n",
       "<table border=\"1\" class=\"dataframe\">\n",
       "  <thead>\n",
       "    <tr style=\"text-align: right;\">\n",
       "      <th></th>\n",
       "      <th>country_id</th>\n",
       "      <th>country</th>\n",
       "      <th>capital</th>\n",
       "      <th>longitude</th>\n",
       "      <th>latitude</th>\n",
       "      <th>total_gdp</th>\n",
       "      <th>total_population</th>\n",
       "    </tr>\n",
       "  </thead>\n",
       "  <tbody>\n",
       "    <tr>\n",
       "      <th>0</th>\n",
       "      <td>AW</td>\n",
       "      <td>Aruba</td>\n",
       "      <td>Oranjestad</td>\n",
       "      <td>-70.0167</td>\n",
       "      <td>12.51670</td>\n",
       "      <td>3.126019e+09</td>\n",
       "      <td>106445</td>\n",
       "    </tr>\n",
       "    <tr>\n",
       "      <th>1</th>\n",
       "      <td>AF</td>\n",
       "      <td>Afghanistan</td>\n",
       "      <td>Kabul</td>\n",
       "      <td>69.1761</td>\n",
       "      <td>34.52280</td>\n",
       "      <td>1.458314e+10</td>\n",
       "      <td>41128771</td>\n",
       "    </tr>\n",
       "    <tr>\n",
       "      <th>2</th>\n",
       "      <td>AO</td>\n",
       "      <td>Angola</td>\n",
       "      <td>Luanda</td>\n",
       "      <td>13.2420</td>\n",
       "      <td>-8.81155</td>\n",
       "      <td>1.067136e+11</td>\n",
       "      <td>35588987</td>\n",
       "    </tr>\n",
       "    <tr>\n",
       "      <th>3</th>\n",
       "      <td>AL</td>\n",
       "      <td>Albania</td>\n",
       "      <td>Tirane</td>\n",
       "      <td>19.8172</td>\n",
       "      <td>41.33170</td>\n",
       "      <td>1.888210e+10</td>\n",
       "      <td>2775634</td>\n",
       "    </tr>\n",
       "    <tr>\n",
       "      <th>4</th>\n",
       "      <td>AD</td>\n",
       "      <td>Andorra</td>\n",
       "      <td>Andorra la Vella</td>\n",
       "      <td>1.5218</td>\n",
       "      <td>42.50750</td>\n",
       "      <td>3.352033e+09</td>\n",
       "      <td>79824</td>\n",
       "    </tr>\n",
       "    <tr>\n",
       "      <th>...</th>\n",
       "      <td>...</td>\n",
       "      <td>...</td>\n",
       "      <td>...</td>\n",
       "      <td>...</td>\n",
       "      <td>...</td>\n",
       "      <td>...</td>\n",
       "      <td>...</td>\n",
       "    </tr>\n",
       "    <tr>\n",
       "      <th>201</th>\n",
       "      <td>XK</td>\n",
       "      <td>Kosovo</td>\n",
       "      <td>Pristina</td>\n",
       "      <td>20.9260</td>\n",
       "      <td>42.56500</td>\n",
       "      <td>9.429156e+09</td>\n",
       "      <td>1761985</td>\n",
       "    </tr>\n",
       "    <tr>\n",
       "      <th>202</th>\n",
       "      <td>YE</td>\n",
       "      <td>Yemen, Rep.</td>\n",
       "      <td>Sana'a</td>\n",
       "      <td>44.2075</td>\n",
       "      <td>15.35200</td>\n",
       "      <td>2.160616e+10</td>\n",
       "      <td>33696614</td>\n",
       "    </tr>\n",
       "    <tr>\n",
       "      <th>203</th>\n",
       "      <td>ZA</td>\n",
       "      <td>South Africa</td>\n",
       "      <td>Pretoria</td>\n",
       "      <td>28.1871</td>\n",
       "      <td>-25.74600</td>\n",
       "      <td>4.058697e+11</td>\n",
       "      <td>59893885</td>\n",
       "    </tr>\n",
       "    <tr>\n",
       "      <th>204</th>\n",
       "      <td>ZM</td>\n",
       "      <td>Zambia</td>\n",
       "      <td>Lusaka</td>\n",
       "      <td>28.2937</td>\n",
       "      <td>-15.39820</td>\n",
       "      <td>2.978445e+10</td>\n",
       "      <td>20017675</td>\n",
       "    </tr>\n",
       "    <tr>\n",
       "      <th>205</th>\n",
       "      <td>ZW</td>\n",
       "      <td>Zimbabwe</td>\n",
       "      <td>Harare</td>\n",
       "      <td>31.0672</td>\n",
       "      <td>-17.83120</td>\n",
       "      <td>2.067806e+10</td>\n",
       "      <td>16320537</td>\n",
       "    </tr>\n",
       "  </tbody>\n",
       "</table>\n",
       "<p>206 rows × 7 columns</p>\n",
       "</div>"
      ],
      "text/plain": [
       "    country_id       country           capital  longitude  latitude  \\\n",
       "0           AW         Aruba        Oranjestad   -70.0167  12.51670   \n",
       "1           AF   Afghanistan             Kabul    69.1761  34.52280   \n",
       "2           AO        Angola            Luanda    13.2420  -8.81155   \n",
       "3           AL       Albania            Tirane    19.8172  41.33170   \n",
       "4           AD       Andorra  Andorra la Vella     1.5218  42.50750   \n",
       "..         ...           ...               ...        ...       ...   \n",
       "201         XK        Kosovo          Pristina    20.9260  42.56500   \n",
       "202         YE   Yemen, Rep.            Sana'a    44.2075  15.35200   \n",
       "203         ZA  South Africa          Pretoria    28.1871 -25.74600   \n",
       "204         ZM        Zambia            Lusaka    28.2937 -15.39820   \n",
       "205         ZW      Zimbabwe            Harare    31.0672 -17.83120   \n",
       "\n",
       "        total_gdp  total_population  \n",
       "0    3.126019e+09            106445  \n",
       "1    1.458314e+10          41128771  \n",
       "2    1.067136e+11          35588987  \n",
       "3    1.888210e+10           2775634  \n",
       "4    3.352033e+09             79824  \n",
       "..            ...               ...  \n",
       "201  9.429156e+09           1761985  \n",
       "202  2.160616e+10          33696614  \n",
       "203  4.058697e+11          59893885  \n",
       "204  2.978445e+10          20017675  \n",
       "205  2.067806e+10          16320537  \n",
       "\n",
       "[206 rows x 7 columns]"
      ]
     },
     "execution_count": 3,
     "metadata": {},
     "output_type": "execute_result"
    }
   ],
   "source": [
    "data"
   ]
  },
  {
   "cell_type": "markdown",
   "id": "cb37258a",
   "metadata": {},
   "source": [
    "Tout d'abord, nous commençons par quelques statistiques descriptives"
   ]
  },
  {
   "cell_type": "code",
   "execution_count": 4,
   "id": "2792abb4",
   "metadata": {},
   "outputs": [
    {
     "data": {
      "text/html": [
       "<div>\n",
       "<style scoped>\n",
       "    .dataframe tbody tr th:only-of-type {\n",
       "        vertical-align: middle;\n",
       "    }\n",
       "\n",
       "    .dataframe tbody tr th {\n",
       "        vertical-align: top;\n",
       "    }\n",
       "\n",
       "    .dataframe thead th {\n",
       "        text-align: right;\n",
       "    }\n",
       "</style>\n",
       "<table border=\"1\" class=\"dataframe\">\n",
       "  <thead>\n",
       "    <tr style=\"text-align: right;\">\n",
       "      <th></th>\n",
       "      <th>longitude</th>\n",
       "      <th>latitude</th>\n",
       "      <th>total_gdp</th>\n",
       "      <th>total_population</th>\n",
       "    </tr>\n",
       "  </thead>\n",
       "  <tbody>\n",
       "    <tr>\n",
       "      <th>count</th>\n",
       "      <td>206.000000</td>\n",
       "      <td>206.000000</td>\n",
       "      <td>2.060000e+02</td>\n",
       "      <td>2.060000e+02</td>\n",
       "    </tr>\n",
       "    <tr>\n",
       "      <th>mean</th>\n",
       "      <td>18.031318</td>\n",
       "      <td>18.697975</td>\n",
       "      <td>4.802755e+11</td>\n",
       "      <td>3.824658e+07</td>\n",
       "    </tr>\n",
       "    <tr>\n",
       "      <th>std</th>\n",
       "      <td>69.972229</td>\n",
       "      <td>24.444313</td>\n",
       "      <td>2.236408e+12</td>\n",
       "      <td>1.445795e+08</td>\n",
       "    </tr>\n",
       "    <tr>\n",
       "      <th>min</th>\n",
       "      <td>-175.216000</td>\n",
       "      <td>-41.286500</td>\n",
       "      <td>6.034939e+07</td>\n",
       "      <td>1.131200e+04</td>\n",
       "    </tr>\n",
       "    <tr>\n",
       "      <th>25%</th>\n",
       "      <td>-14.810300</td>\n",
       "      <td>3.947625</td>\n",
       "      <td>7.277447e+09</td>\n",
       "      <td>1.214124e+06</td>\n",
       "    </tr>\n",
       "    <tr>\n",
       "      <th>50%</th>\n",
       "      <td>18.731100</td>\n",
       "      <td>16.355350</td>\n",
       "      <td>2.987061e+10</td>\n",
       "      <td>6.792022e+06</td>\n",
       "    </tr>\n",
       "    <tr>\n",
       "      <th>75%</th>\n",
       "      <td>47.661225</td>\n",
       "      <td>40.132075</td>\n",
       "      <td>2.202337e+11</td>\n",
       "      <td>2.809904e+07</td>\n",
       "    </tr>\n",
       "    <tr>\n",
       "      <th>max</th>\n",
       "      <td>179.089567</td>\n",
       "      <td>64.183600</td>\n",
       "      <td>2.546270e+13</td>\n",
       "      <td>1.417173e+09</td>\n",
       "    </tr>\n",
       "  </tbody>\n",
       "</table>\n",
       "</div>"
      ],
      "text/plain": [
       "        longitude    latitude     total_gdp  total_population\n",
       "count  206.000000  206.000000  2.060000e+02      2.060000e+02\n",
       "mean    18.031318   18.697975  4.802755e+11      3.824658e+07\n",
       "std     69.972229   24.444313  2.236408e+12      1.445795e+08\n",
       "min   -175.216000  -41.286500  6.034939e+07      1.131200e+04\n",
       "25%    -14.810300    3.947625  7.277447e+09      1.214124e+06\n",
       "50%     18.731100   16.355350  2.987061e+10      6.792022e+06\n",
       "75%     47.661225   40.132075  2.202337e+11      2.809904e+07\n",
       "max    179.089567   64.183600  2.546270e+13      1.417173e+09"
      ]
     },
     "execution_count": 4,
     "metadata": {},
     "output_type": "execute_result"
    }
   ],
   "source": [
    "data.describe()"
   ]
  },
  {
   "cell_type": "markdown",
   "id": "c36ce88f",
   "metadata": {},
   "source": [
    "Ensuite, nous examinerons le nombre total de pays présents dans nos données."
   ]
  },
  {
   "cell_type": "code",
   "execution_count": 5,
   "id": "316241a6",
   "metadata": {},
   "outputs": [
    {
     "name": "stdout",
     "output_type": "stream",
     "text": [
      "Nombre de pays :  206\n"
     ]
    }
   ],
   "source": [
    "print(\"Nombre de pays : \", data['country'].nunique())"
   ]
  },
  {
   "cell_type": "markdown",
   "id": "e7e1a572",
   "metadata": {},
   "source": [
    "Top 10, des pays avec le plus grand PIB (total_gdp)"
   ]
  },
  {
   "cell_type": "code",
   "execution_count": 6,
   "id": "a7e3cd26",
   "metadata": {
    "scrolled": true
   },
   "outputs": [
    {
     "data": {
      "text/html": [
       "<div>\n",
       "<style scoped>\n",
       "    .dataframe tbody tr th:only-of-type {\n",
       "        vertical-align: middle;\n",
       "    }\n",
       "\n",
       "    .dataframe tbody tr th {\n",
       "        vertical-align: top;\n",
       "    }\n",
       "\n",
       "    .dataframe thead th {\n",
       "        text-align: right;\n",
       "    }\n",
       "</style>\n",
       "<table border=\"1\" class=\"dataframe\">\n",
       "  <thead>\n",
       "    <tr style=\"text-align: right;\">\n",
       "      <th></th>\n",
       "      <th>country</th>\n",
       "      <th>total_gdp</th>\n",
       "    </tr>\n",
       "  </thead>\n",
       "  <tbody>\n",
       "    <tr>\n",
       "      <th>193</th>\n",
       "      <td>United States</td>\n",
       "      <td>25,462,700,000,000</td>\n",
       "    </tr>\n",
       "    <tr>\n",
       "      <th>35</th>\n",
       "      <td>China</td>\n",
       "      <td>17,963,170,521,080</td>\n",
       "    </tr>\n",
       "    <tr>\n",
       "      <th>93</th>\n",
       "      <td>Japan</td>\n",
       "      <td>4,231,141,201,863</td>\n",
       "    </tr>\n",
       "    <tr>\n",
       "      <th>48</th>\n",
       "      <td>Germany</td>\n",
       "      <td>4,072,191,736,090</td>\n",
       "    </tr>\n",
       "    <tr>\n",
       "      <th>85</th>\n",
       "      <td>India</td>\n",
       "      <td>3,385,089,881,935</td>\n",
       "    </tr>\n",
       "    <tr>\n",
       "      <th>66</th>\n",
       "      <td>United Kingdom</td>\n",
       "      <td>3,070,667,732,359</td>\n",
       "    </tr>\n",
       "    <tr>\n",
       "      <th>62</th>\n",
       "      <td>France</td>\n",
       "      <td>2,782,905,325,625</td>\n",
       "    </tr>\n",
       "    <tr>\n",
       "      <th>156</th>\n",
       "      <td>Russian Federation</td>\n",
       "      <td>2,240,422,438,363</td>\n",
       "    </tr>\n",
       "    <tr>\n",
       "      <th>32</th>\n",
       "      <td>Canada</td>\n",
       "      <td>2,139,840,023,674</td>\n",
       "    </tr>\n",
       "    <tr>\n",
       "      <th>90</th>\n",
       "      <td>Italy</td>\n",
       "      <td>2,010,431,598,465</td>\n",
       "    </tr>\n",
       "  </tbody>\n",
       "</table>\n",
       "</div>"
      ],
      "text/plain": [
       "                country          total_gdp\n",
       "193       United States 25,462,700,000,000\n",
       "35                China 17,963,170,521,080\n",
       "93                Japan  4,231,141,201,863\n",
       "48              Germany  4,072,191,736,090\n",
       "85                India  3,385,089,881,935\n",
       "66       United Kingdom  3,070,667,732,359\n",
       "62               France  2,782,905,325,625\n",
       "156  Russian Federation  2,240,422,438,363\n",
       "32               Canada  2,139,840,023,674\n",
       "90                Italy  2,010,431,598,465"
      ]
     },
     "execution_count": 6,
     "metadata": {},
     "output_type": "execute_result"
    }
   ],
   "source": [
    "# Configuration de l'affichage des montants en format avec aucun chiffre après la virgule\n",
    "pd.options.display.float_format = '{:,.0f}'.format\n",
    "\n",
    "top_10_gdp = data.nlargest(10, 'total_gdp')\n",
    "\n",
    "top_10_gdp_countries = top_10_gdp[['country', 'total_gdp']]\n",
    "\n",
    "top_10_gdp_countries"
   ]
  },
  {
   "cell_type": "markdown",
   "id": "8380a033",
   "metadata": {},
   "source": [
    "Graphique illustrant les 10 pays avec le plus grand PIB"
   ]
  },
  {
   "cell_type": "code",
   "execution_count": 7,
   "id": "d330a609",
   "metadata": {
    "scrolled": true
   },
   "outputs": [
    {
     "data": {
      "image/png": "[encoded data removed]",
      "text/plain": [
       "<Figure size 640x480 with 1 Axes>"
      ]
     },
     "metadata": {},
     "output_type": "display_data"
    }
   ],
   "source": [
    "# Définition de la colonne 'country' comme index\n",
    "top_10_gdp_countries.set_index('country', inplace=True)\n",
    "\n",
    "top_10_gdp_countries.plot(kind='bar')\n",
    "plt.ylabel('PIB total ($US)')\n",
    "plt.title('Top 10 des pays ayant le plus grand PIB')\n",
    "plt.show()"
   ]
  },
  {
   "cell_type": "markdown",
   "id": "3fa89582",
   "metadata": {},
   "source": [
    "Top 10 des pays avec le plus grand nobre de population"
   ]
  },
  {
   "cell_type": "code",
   "execution_count": 8,
   "id": "d2745b38",
   "metadata": {
    "scrolled": true
   },
   "outputs": [
    {
     "data": {
      "text/html": [
       "<div>\n",
       "<style scoped>\n",
       "    .dataframe tbody tr th:only-of-type {\n",
       "        vertical-align: middle;\n",
       "    }\n",
       "\n",
       "    .dataframe tbody tr th {\n",
       "        vertical-align: top;\n",
       "    }\n",
       "\n",
       "    .dataframe thead th {\n",
       "        text-align: right;\n",
       "    }\n",
       "</style>\n",
       "<table border=\"1\" class=\"dataframe\">\n",
       "  <thead>\n",
       "    <tr style=\"text-align: right;\">\n",
       "      <th></th>\n",
       "      <th>country</th>\n",
       "      <th>total_population</th>\n",
       "    </tr>\n",
       "  </thead>\n",
       "  <tbody>\n",
       "    <tr>\n",
       "      <th>85</th>\n",
       "      <td>India</td>\n",
       "      <td>1417173173</td>\n",
       "    </tr>\n",
       "    <tr>\n",
       "      <th>35</th>\n",
       "      <td>China</td>\n",
       "      <td>1412175000</td>\n",
       "    </tr>\n",
       "    <tr>\n",
       "      <th>193</th>\n",
       "      <td>United States</td>\n",
       "      <td>333287557</td>\n",
       "    </tr>\n",
       "    <tr>\n",
       "      <th>83</th>\n",
       "      <td>Indonesia</td>\n",
       "      <td>275501339</td>\n",
       "    </tr>\n",
       "    <tr>\n",
       "      <th>143</th>\n",
       "      <td>Pakistan</td>\n",
       "      <td>235824862</td>\n",
       "    </tr>\n",
       "    <tr>\n",
       "      <th>135</th>\n",
       "      <td>Nigeria</td>\n",
       "      <td>218541212</td>\n",
       "    </tr>\n",
       "    <tr>\n",
       "      <th>26</th>\n",
       "      <td>Brazil</td>\n",
       "      <td>215313498</td>\n",
       "    </tr>\n",
       "    <tr>\n",
       "      <th>17</th>\n",
       "      <td>Bangladesh</td>\n",
       "      <td>171186372</td>\n",
       "    </tr>\n",
       "    <tr>\n",
       "      <th>156</th>\n",
       "      <td>Russian Federation</td>\n",
       "      <td>143555736</td>\n",
       "    </tr>\n",
       "    <tr>\n",
       "      <th>118</th>\n",
       "      <td>Mexico</td>\n",
       "      <td>127504125</td>\n",
       "    </tr>\n",
       "  </tbody>\n",
       "</table>\n",
       "</div>"
      ],
      "text/plain": [
       "                country  total_population\n",
       "85                India        1417173173\n",
       "35                China        1412175000\n",
       "193       United States         333287557\n",
       "83            Indonesia         275501339\n",
       "143            Pakistan         235824862\n",
       "135             Nigeria         218541212\n",
       "26               Brazil         215313498\n",
       "17           Bangladesh         171186372\n",
       "156  Russian Federation         143555736\n",
       "118              Mexico         127504125"
      ]
     },
     "execution_count": 8,
     "metadata": {},
     "output_type": "execute_result"
    }
   ],
   "source": [
    "top_10_population = data.nlargest(10, 'total_population')\n",
    "\n",
    "top_10_population_countries = top_10_population[['country', 'total_population']]\n",
    "\n",
    "top_10_population_countries"
   ]
  },
  {
   "cell_type": "markdown",
   "id": "637bb047",
   "metadata": {},
   "source": [
    "Graphique illustrant les 10 pays avec le plus grand nombre de population"
   ]
  },
  {
   "cell_type": "code",
   "execution_count": 9,
   "id": "129b300b",
   "metadata": {},
   "outputs": [
    {
     "data": {
      "image/png": "[encoded data removed]",
      "text/plain": [
       "<Figure size 640x480 with 1 Axes>"
      ]
     },
     "metadata": {},
     "output_type": "display_data"
    }
   ],
   "source": [
    "# Définition de la colonne 'country' comme index\n",
    "top_10_population_countries.set_index('country', inplace=True)\n",
    "\n",
    "top_10_population_countries.plot(kind='bar')\n",
    "plt.ylabel('Nombre d\\'habitants')\n",
    "plt.title('Top 10 des pays ayant le plus grand nombre de population')\n",
    "plt.show()"
   ]
  },
  {
   "cell_type": "markdown",
   "id": "b7bd60d4",
   "metadata": {},
   "source": [
    "Relation entre le PIB et la population"
   ]
  },
  {
   "cell_type": "code",
   "execution_count": 11,
   "id": "c1829434",
   "metadata": {
    "scrolled": true
   },
   "outputs": [
    {
     "data": {
      "image/png": "[encoded data removed]",
      "text/plain": [
       "<Figure size 640x480 with 1 Axes>"
      ]
     },
     "metadata": {},
     "output_type": "display_data"
    }
   ],
   "source": [
    "# Tracé du graphique de la relation entre total_gdp et total_population\n",
    "\n",
    "plt.scatter(data['total_gdp'], data['total_population'], color='blue', alpha=0.7)\n",
    "plt.xlabel('PIB total')\n",
    "plt.ylabel('Nombre d\\'habitants')\n",
    "plt.title('Relation entre PIB total et Population')\n",
    "plt.grid(True)\n",
    "plt.show()"
   ]
  },
  {
   "cell_type": "code",
   "execution_count": null,
   "id": "5db55493",
   "metadata": {},
   "outputs": [],
   "source": []
  }
 ],
 "metadata": {
  "kernelspec": {
   "display_name": "Python 3 (ipykernel)",
   "language": "python",
   "name": "python3"
  },
  "language_info": {
   "codemirror_mode": {
    "name": "ipython",
    "version": 3
   },
   "file_extension": ".py",
   "mimetype": "text/x-python",
   "name": "python",
   "nbconvert_exporter": "python",
   "pygments_lexer": "ipython3",
   "version": "3.10.9"
  }
 },
 "nbformat": 4,
 "nbformat_minor": 5
}
