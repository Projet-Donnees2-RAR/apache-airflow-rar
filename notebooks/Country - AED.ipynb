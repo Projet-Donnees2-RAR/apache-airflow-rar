{
 "cells": [
  {
   "cell_type": "markdown",
   "id": "d8184cce",
   "metadata": {},
   "source": [
    "# Analyse exploratoire des données"
   ]
  },
  {
   "cell_type": "markdown",
   "id": "8a80efdb",
   "metadata": {},
   "source": [
    "Dans ce notebook , nous procéderons à une analyse exploratoire des données."
   ]
  },
  {
   "cell_type": "code",
   "execution_count": 25,
   "id": "95d42c22",
   "metadata": {},
   "outputs": [],
   "source": [
    "import pandas as pd\n",
    "import matplotlib.pyplot as plt"
   ]
  },
  {
   "cell_type": "code",
   "execution_count": 19,
   "id": "49403680",
   "metadata": {},
   "outputs": [],
   "source": [
    "data = pd.read_csv(\"https://rar-group-bucket.s3.eu-north-1.amazonaws.com/country_2023_08_16.csv\")"
   ]
  },
  {
   "cell_type": "code",
   "execution_count": 20,
   "id": "dbfe74a4",
   "metadata": {
    "scrolled": true
   },
   "outputs": [
    {
     "data": {
      "text/html": [
       "<div>\n",
       "<style scoped>\n",
       "    .dataframe tbody tr th:only-of-type {\n",
       "        vertical-align: middle;\n",
       "    }\n",
       "\n",
       "    .dataframe tbody tr th {\n",
       "        vertical-align: top;\n",
       "    }\n",
       "\n",
       "    .dataframe thead th {\n",
       "        text-align: right;\n",
       "    }\n",
       "</style>\n",
       "<table border=\"1\" class=\"dataframe\">\n",
       "  <thead>\n",
       "    <tr style=\"text-align: right;\">\n",
       "      <th></th>\n",
       "      <th>country_id</th>\n",
       "      <th>country</th>\n",
       "      <th>capital</th>\n",
       "      <th>longitude</th>\n",
       "      <th>latitude</th>\n",
       "      <th>total_gdp</th>\n",
       "      <th>total population</th>\n",
       "    </tr>\n",
       "  </thead>\n",
       "  <tbody>\n",
       "    <tr>\n",
       "      <th>0</th>\n",
       "      <td>AW</td>\n",
       "      <td>Aruba</td>\n",
       "      <td>Oranjestad</td>\n",
       "      <td>-70</td>\n",
       "      <td>13</td>\n",
       "      <td>3,126,019,385</td>\n",
       "      <td>106445</td>\n",
       "    </tr>\n",
       "    <tr>\n",
       "      <th>1</th>\n",
       "      <td>AF</td>\n",
       "      <td>Afghanistan</td>\n",
       "      <td>Kabul</td>\n",
       "      <td>69</td>\n",
       "      <td>35</td>\n",
       "      <td>14,583,135,237</td>\n",
       "      <td>41128771</td>\n",
       "    </tr>\n",
       "    <tr>\n",
       "      <th>2</th>\n",
       "      <td>AO</td>\n",
       "      <td>Angola</td>\n",
       "      <td>Luanda</td>\n",
       "      <td>13</td>\n",
       "      <td>-9</td>\n",
       "      <td>106,713,618,735</td>\n",
       "      <td>35588987</td>\n",
       "    </tr>\n",
       "    <tr>\n",
       "      <th>3</th>\n",
       "      <td>AL</td>\n",
       "      <td>Albania</td>\n",
       "      <td>Tirane</td>\n",
       "      <td>20</td>\n",
       "      <td>41</td>\n",
       "      <td>18,882,095,518</td>\n",
       "      <td>2775634</td>\n",
       "    </tr>\n",
       "    <tr>\n",
       "      <th>4</th>\n",
       "      <td>AD</td>\n",
       "      <td>Andorra</td>\n",
       "      <td>Andorra la Vella</td>\n",
       "      <td>2</td>\n",
       "      <td>43</td>\n",
       "      <td>3,352,032,737</td>\n",
       "      <td>79824</td>\n",
       "    </tr>\n",
       "    <tr>\n",
       "      <th>...</th>\n",
       "      <td>...</td>\n",
       "      <td>...</td>\n",
       "      <td>...</td>\n",
       "      <td>...</td>\n",
       "      <td>...</td>\n",
       "      <td>...</td>\n",
       "      <td>...</td>\n",
       "    </tr>\n",
       "    <tr>\n",
       "      <th>201</th>\n",
       "      <td>XK</td>\n",
       "      <td>Kosovo</td>\n",
       "      <td>Pristina</td>\n",
       "      <td>21</td>\n",
       "      <td>43</td>\n",
       "      <td>9,429,156,202</td>\n",
       "      <td>1761985</td>\n",
       "    </tr>\n",
       "    <tr>\n",
       "      <th>202</th>\n",
       "      <td>YE</td>\n",
       "      <td>Yemen, Rep.</td>\n",
       "      <td>Sana'a</td>\n",
       "      <td>44</td>\n",
       "      <td>15</td>\n",
       "      <td>21,606,161,066</td>\n",
       "      <td>33696614</td>\n",
       "    </tr>\n",
       "    <tr>\n",
       "      <th>203</th>\n",
       "      <td>ZA</td>\n",
       "      <td>South Africa</td>\n",
       "      <td>Pretoria</td>\n",
       "      <td>28</td>\n",
       "      <td>-26</td>\n",
       "      <td>405,869,718,462</td>\n",
       "      <td>59893885</td>\n",
       "    </tr>\n",
       "    <tr>\n",
       "      <th>204</th>\n",
       "      <td>ZM</td>\n",
       "      <td>Zambia</td>\n",
       "      <td>Lusaka</td>\n",
       "      <td>28</td>\n",
       "      <td>-15</td>\n",
       "      <td>29,784,454,056</td>\n",
       "      <td>20017675</td>\n",
       "    </tr>\n",
       "    <tr>\n",
       "      <th>205</th>\n",
       "      <td>ZW</td>\n",
       "      <td>Zimbabwe</td>\n",
       "      <td>Harare</td>\n",
       "      <td>31</td>\n",
       "      <td>-18</td>\n",
       "      <td>20,678,055,598</td>\n",
       "      <td>16320537</td>\n",
       "    </tr>\n",
       "  </tbody>\n",
       "</table>\n",
       "<p>206 rows × 7 columns</p>\n",
       "</div>"
      ],
      "text/plain": [
       "    country_id       country           capital  longitude  latitude  \\\n",
       "0           AW         Aruba        Oranjestad        -70        13   \n",
       "1           AF   Afghanistan             Kabul         69        35   \n",
       "2           AO        Angola            Luanda         13        -9   \n",
       "3           AL       Albania            Tirane         20        41   \n",
       "4           AD       Andorra  Andorra la Vella          2        43   \n",
       "..         ...           ...               ...        ...       ...   \n",
       "201         XK        Kosovo          Pristina         21        43   \n",
       "202         YE   Yemen, Rep.            Sana'a         44        15   \n",
       "203         ZA  South Africa          Pretoria         28       -26   \n",
       "204         ZM        Zambia            Lusaka         28       -15   \n",
       "205         ZW      Zimbabwe            Harare         31       -18   \n",
       "\n",
       "          total_gdp  total population  \n",
       "0     3,126,019,385            106445  \n",
       "1    14,583,135,237          41128771  \n",
       "2   106,713,618,735          35588987  \n",
       "3    18,882,095,518           2775634  \n",
       "4     3,352,032,737             79824  \n",
       "..              ...               ...  \n",
       "201   9,429,156,202           1761985  \n",
       "202  21,606,161,066          33696614  \n",
       "203 405,869,718,462          59893885  \n",
       "204  29,784,454,056          20017675  \n",
       "205  20,678,055,598          16320537  \n",
       "\n",
       "[206 rows x 7 columns]"
      ]
     },
     "execution_count": 20,
     "metadata": {},
     "output_type": "execute_result"
    }
   ],
   "source": [
    "data"
   ]
  },
  {
   "cell_type": "markdown",
   "id": "cb37258a",
   "metadata": {},
   "source": [
    "Tout d'abord, nous commençons par quelques statistiques descriptives"
   ]
  },
  {
   "cell_type": "code",
   "execution_count": 48,
   "id": "2792abb4",
   "metadata": {},
   "outputs": [
    {
     "data": {
      "text/html": [
       "<div>\n",
       "<style scoped>\n",
       "    .dataframe tbody tr th:only-of-type {\n",
       "        vertical-align: middle;\n",
       "    }\n",
       "\n",
       "    .dataframe tbody tr th {\n",
       "        vertical-align: top;\n",
       "    }\n",
       "\n",
       "    .dataframe thead th {\n",
       "        text-align: right;\n",
       "    }\n",
       "</style>\n",
       "<table border=\"1\" class=\"dataframe\">\n",
       "  <thead>\n",
       "    <tr style=\"text-align: right;\">\n",
       "      <th></th>\n",
       "      <th>longitude</th>\n",
       "      <th>latitude</th>\n",
       "      <th>total_gdp</th>\n",
       "      <th>total population</th>\n",
       "    </tr>\n",
       "  </thead>\n",
       "  <tbody>\n",
       "    <tr>\n",
       "      <th>count</th>\n",
       "      <td>206</td>\n",
       "      <td>206</td>\n",
       "      <td>206</td>\n",
       "      <td>206</td>\n",
       "    </tr>\n",
       "    <tr>\n",
       "      <th>mean</th>\n",
       "      <td>18</td>\n",
       "      <td>19</td>\n",
       "      <td>480,275,535,881</td>\n",
       "      <td>38,246,578</td>\n",
       "    </tr>\n",
       "    <tr>\n",
       "      <th>std</th>\n",
       "      <td>70</td>\n",
       "      <td>24</td>\n",
       "      <td>2,236,407,950,997</td>\n",
       "      <td>144,579,458</td>\n",
       "    </tr>\n",
       "    <tr>\n",
       "      <th>min</th>\n",
       "      <td>-175</td>\n",
       "      <td>-41</td>\n",
       "      <td>60,349,391</td>\n",
       "      <td>11,312</td>\n",
       "    </tr>\n",
       "    <tr>\n",
       "      <th>25%</th>\n",
       "      <td>-15</td>\n",
       "      <td>4</td>\n",
       "      <td>7,277,446,587</td>\n",
       "      <td>1,214,124</td>\n",
       "    </tr>\n",
       "    <tr>\n",
       "      <th>50%</th>\n",
       "      <td>19</td>\n",
       "      <td>16</td>\n",
       "      <td>29,870,611,793</td>\n",
       "      <td>6,792,022</td>\n",
       "    </tr>\n",
       "    <tr>\n",
       "      <th>75%</th>\n",
       "      <td>48</td>\n",
       "      <td>40</td>\n",
       "      <td>220,233,719,592</td>\n",
       "      <td>28,099,040</td>\n",
       "    </tr>\n",
       "    <tr>\n",
       "      <th>max</th>\n",
       "      <td>179</td>\n",
       "      <td>64</td>\n",
       "      <td>25,462,700,000,000</td>\n",
       "      <td>1,417,173,173</td>\n",
       "    </tr>\n",
       "  </tbody>\n",
       "</table>\n",
       "</div>"
      ],
      "text/plain": [
       "       longitude  latitude          total_gdp  total population\n",
       "count        206       206                206               206\n",
       "mean          18        19    480,275,535,881        38,246,578\n",
       "std           70        24  2,236,407,950,997       144,579,458\n",
       "min         -175       -41         60,349,391            11,312\n",
       "25%          -15         4      7,277,446,587         1,214,124\n",
       "50%           19        16     29,870,611,793         6,792,022\n",
       "75%           48        40    220,233,719,592        28,099,040\n",
       "max          179        64 25,462,700,000,000     1,417,173,173"
      ]
     },
     "execution_count": 48,
     "metadata": {},
     "output_type": "execute_result"
    }
   ],
   "source": [
    "data.describe()"
   ]
  },
  {
   "cell_type": "markdown",
   "id": "c36ce88f",
   "metadata": {},
   "source": [
    "Ensuite, nous examinerons le nombre total de pays présents dans nos données."
   ]
  },
  {
   "cell_type": "code",
   "execution_count": 32,
   "id": "316241a6",
   "metadata": {},
   "outputs": [
    {
     "name": "stdout",
     "output_type": "stream",
     "text": [
      "Nombre de pays :  206\n"
     ]
    }
   ],
   "source": [
    "print(\"Nombre de pays : \", data['country'].nunique())"
   ]
  },
  {
   "cell_type": "markdown",
   "id": "e7e1a572",
   "metadata": {},
   "source": [
    "Top 10, des pays avec le plus grand PIB (total_gdp)"
   ]
  },
  {
   "cell_type": "code",
   "execution_count": 37,
   "id": "a7e3cd26",
   "metadata": {
    "scrolled": true
   },
   "outputs": [
    {
     "data": {
      "text/html": [
       "<div>\n",
       "<style scoped>\n",
       "    .dataframe tbody tr th:only-of-type {\n",
       "        vertical-align: middle;\n",
       "    }\n",
       "\n",
       "    .dataframe tbody tr th {\n",
       "        vertical-align: top;\n",
       "    }\n",
       "\n",
       "    .dataframe thead th {\n",
       "        text-align: right;\n",
       "    }\n",
       "</style>\n",
       "<table border=\"1\" class=\"dataframe\">\n",
       "  <thead>\n",
       "    <tr style=\"text-align: right;\">\n",
       "      <th></th>\n",
       "      <th>country</th>\n",
       "      <th>total_gdp</th>\n",
       "    </tr>\n",
       "  </thead>\n",
       "  <tbody>\n",
       "    <tr>\n",
       "      <th>193</th>\n",
       "      <td>United States</td>\n",
       "      <td>25,462,700,000,000</td>\n",
       "    </tr>\n",
       "    <tr>\n",
       "      <th>35</th>\n",
       "      <td>China</td>\n",
       "      <td>17,963,170,521,080</td>\n",
       "    </tr>\n",
       "    <tr>\n",
       "      <th>93</th>\n",
       "      <td>Japan</td>\n",
       "      <td>4,231,141,201,863</td>\n",
       "    </tr>\n",
       "    <tr>\n",
       "      <th>48</th>\n",
       "      <td>Germany</td>\n",
       "      <td>4,072,191,736,090</td>\n",
       "    </tr>\n",
       "    <tr>\n",
       "      <th>85</th>\n",
       "      <td>India</td>\n",
       "      <td>3,385,089,881,935</td>\n",
       "    </tr>\n",
       "    <tr>\n",
       "      <th>66</th>\n",
       "      <td>United Kingdom</td>\n",
       "      <td>3,070,667,732,359</td>\n",
       "    </tr>\n",
       "    <tr>\n",
       "      <th>62</th>\n",
       "      <td>France</td>\n",
       "      <td>2,782,905,325,625</td>\n",
       "    </tr>\n",
       "    <tr>\n",
       "      <th>156</th>\n",
       "      <td>Russian Federation</td>\n",
       "      <td>2,240,422,438,363</td>\n",
       "    </tr>\n",
       "    <tr>\n",
       "      <th>32</th>\n",
       "      <td>Canada</td>\n",
       "      <td>2,139,840,023,674</td>\n",
       "    </tr>\n",
       "    <tr>\n",
       "      <th>90</th>\n",
       "      <td>Italy</td>\n",
       "      <td>2,010,431,598,465</td>\n",
       "    </tr>\n",
       "  </tbody>\n",
       "</table>\n",
       "</div>"
      ],
      "text/plain": [
       "                country          total_gdp\n",
       "193       United States 25,462,700,000,000\n",
       "35                China 17,963,170,521,080\n",
       "93                Japan  4,231,141,201,863\n",
       "48              Germany  4,072,191,736,090\n",
       "85                India  3,385,089,881,935\n",
       "66       United Kingdom  3,070,667,732,359\n",
       "62               France  2,782,905,325,625\n",
       "156  Russian Federation  2,240,422,438,363\n",
       "32               Canada  2,139,840,023,674\n",
       "90                Italy  2,010,431,598,465"
      ]
     },
     "execution_count": 37,
     "metadata": {},
     "output_type": "execute_result"
    }
   ],
   "source": [
    "# Configuration de l'affichage des montants en format avec aucun chiffre après la virgule\n",
    "pd.options.display.float_format = '{:,.0f}'.format\n",
    "\n",
    "top_10_gdp = data.nlargest(10, 'total_gdp')\n",
    "\n",
    "top_10_gdp_countries = top_10_gdp[['country', 'total_gdp']]\n",
    "\n",
    "top_10_gdp_countries"
   ]
  },
  {
   "cell_type": "markdown",
   "id": "8380a033",
   "metadata": {},
   "source": [
    "Graphique illustrant les 10 pays avec le plus grand PIB"
   ]
  },
  {
   "cell_type": "code",
   "execution_count": 39,
   "id": "d330a609",
   "metadata": {},
   "outputs": [
    {
     "data": {
      "image/png": "[encoded data removed]",
      "text/plain": [
       "<Figure size 640x480 with 1 Axes>"
      ]
     },
     "metadata": {},
     "output_type": "display_data"
    }
   ],
   "source": [
    "# Définition de la colonne 'country' comme index\n",
    "top_10_gdp_countries.set_index('country', inplace=True)\n",
    "\n",
    "top_10_gdp_countries.plot(kind='bar')\n",
    "plt.ylabel('PIB total ($US)')\n",
    "plt.title('Top 10 des pays ayant le plus grand PIB')\n",
    "plt.show()"
   ]
  },
  {
   "cell_type": "markdown",
   "id": "3fa89582",
   "metadata": {},
   "source": [
    "Top 10 des pays avec le plus grand nobre de population"
   ]
  },
  {
   "cell_type": "code",
   "execution_count": 46,
   "id": "d2745b38",
   "metadata": {
    "scrolled": true
   },
   "outputs": [
    {
     "data": {
      "text/html": [
       "<div>\n",
       "<style scoped>\n",
       "    .dataframe tbody tr th:only-of-type {\n",
       "        vertical-align: middle;\n",
       "    }\n",
       "\n",
       "    .dataframe tbody tr th {\n",
       "        vertical-align: top;\n",
       "    }\n",
       "\n",
       "    .dataframe thead th {\n",
       "        text-align: right;\n",
       "    }\n",
       "</style>\n",
       "<table border=\"1\" class=\"dataframe\">\n",
       "  <thead>\n",
       "    <tr style=\"text-align: right;\">\n",
       "      <th></th>\n",
       "      <th>country</th>\n",
       "      <th>total population</th>\n",
       "    </tr>\n",
       "  </thead>\n",
       "  <tbody>\n",
       "    <tr>\n",
       "      <th>85</th>\n",
       "      <td>India</td>\n",
       "      <td>1417173173</td>\n",
       "    </tr>\n",
       "    <tr>\n",
       "      <th>35</th>\n",
       "      <td>China</td>\n",
       "      <td>1412175000</td>\n",
       "    </tr>\n",
       "    <tr>\n",
       "      <th>193</th>\n",
       "      <td>United States</td>\n",
       "      <td>333287557</td>\n",
       "    </tr>\n",
       "    <tr>\n",
       "      <th>83</th>\n",
       "      <td>Indonesia</td>\n",
       "      <td>275501339</td>\n",
       "    </tr>\n",
       "    <tr>\n",
       "      <th>143</th>\n",
       "      <td>Pakistan</td>\n",
       "      <td>235824862</td>\n",
       "    </tr>\n",
       "    <tr>\n",
       "      <th>135</th>\n",
       "      <td>Nigeria</td>\n",
       "      <td>218541212</td>\n",
       "    </tr>\n",
       "    <tr>\n",
       "      <th>26</th>\n",
       "      <td>Brazil</td>\n",
       "      <td>215313498</td>\n",
       "    </tr>\n",
       "    <tr>\n",
       "      <th>17</th>\n",
       "      <td>Bangladesh</td>\n",
       "      <td>171186372</td>\n",
       "    </tr>\n",
       "    <tr>\n",
       "      <th>156</th>\n",
       "      <td>Russian Federation</td>\n",
       "      <td>143555736</td>\n",
       "    </tr>\n",
       "    <tr>\n",
       "      <th>118</th>\n",
       "      <td>Mexico</td>\n",
       "      <td>127504125</td>\n",
       "    </tr>\n",
       "  </tbody>\n",
       "</table>\n",
       "</div>"
      ],
      "text/plain": [
       "                country  total population\n",
       "85                India        1417173173\n",
       "35                China        1412175000\n",
       "193       United States         333287557\n",
       "83            Indonesia         275501339\n",
       "143            Pakistan         235824862\n",
       "135             Nigeria         218541212\n",
       "26               Brazil         215313498\n",
       "17           Bangladesh         171186372\n",
       "156  Russian Federation         143555736\n",
       "118              Mexico         127504125"
      ]
     },
     "execution_count": 46,
     "metadata": {},
     "output_type": "execute_result"
    }
   ],
   "source": [
    "top_10_population = data.nlargest(10, 'total population')\n",
    "\n",
    "top_10_population_countries = top_10_population[['country', 'total population']]\n",
    "\n",
    "top_10_population_countries"
   ]
  },
  {
   "cell_type": "markdown",
   "id": "637bb047",
   "metadata": {},
   "source": [
    "Graphique illustrant les 10 pays avec le plus grand nombre de population"
   ]
  },
  {
   "cell_type": "code",
   "execution_count": 47,
   "id": "129b300b",
   "metadata": {},
   "outputs": [
    {
     "data": {
      "image/png": "[encoded data removed]",
      "text/plain": [
       "<Figure size 640x480 with 1 Axes>"
      ]
     },
     "metadata": {},
     "output_type": "display_data"
    }
   ],
   "source": [
    "# Définition de la colonne 'country' comme index\n",
    "top_10_population_countries.set_index('country', inplace=True)\n",
    "\n",
    "top_10_population_countries.plot(kind='bar')\n",
    "plt.ylabel('Nombre d\\'habitants')\n",
    "plt.title('Top 10 des pays ayant le plus grand nombre de population')\n",
    "plt.show()"
   ]
  },
  {
   "cell_type": "markdown",
   "id": "b7bd60d4",
   "metadata": {},
   "source": [
    "Relation entre le PIB et la population"
   ]
  },
  {
   "cell_type": "code",
   "execution_count": 53,
   "id": "c1829434",
   "metadata": {
    "scrolled": true
   },
   "outputs": [
    {
     "data": {
      "image/png": "[encoded data removed]",
      "text/plain": [
       "<Figure size 640x480 with 1 Axes>"
      ]
     },
     "metadata": {},
     "output_type": "display_data"
    }
   ],
   "source": [
    "# Tracé du graphique de la relation entre total_gdp et total_population\n",
    "\n",
    "plt.scatter(data['total_gdp'], data['total population'], color='blue', alpha=0.7)\n",
    "plt.xlabel('PIB total ($US)')\n",
    "plt.ylabel('Nombre d\\'habitants')\n",
    "plt.title('Relation entre PIB total et Population')\n",
    "plt.grid(True)\n",
    "plt.show()"
   ]
  }
 ],
 "metadata": {
  "kernelspec": {
   "display_name": "Python 3 (ipykernel)",
   "language": "python",
   "name": "python3"
  },
  "language_info": {
   "codemirror_mode": {
    "name": "ipython",
    "version": 3
   },
   "file_extension": ".py",
   "mimetype": "text/x-python",
   "name": "python",
   "nbconvert_exporter": "python",
   "pygments_lexer": "ipython3",
   "version": "3.10.9"
  }
 },
 "nbformat": 4,
 "nbformat_minor": 5
}
